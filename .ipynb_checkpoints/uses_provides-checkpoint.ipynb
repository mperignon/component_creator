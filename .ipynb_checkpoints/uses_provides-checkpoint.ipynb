{
 "cells": [
  {
   "cell_type": "code",
   "execution_count": 210,
   "metadata": {
    "collapsed": false
   },
   "outputs": [],
   "source": [
    "import os, sys, glob, string, shutil, re\n",
    "import yaml, json\n",
    "from collections import OrderedDict\n",
    "\n",
    "\n",
    "\n",
    "class UnsortableList(list):\n",
    "    def sort(self, *args, **kwargs):\n",
    "        pass\n",
    "    \n",
    "class UnsortableOrderedDict(OrderedDict):\n",
    "    def items(self, *args, **kwargs):\n",
    "        return UnsortableList(OrderedDict.items(self, *args, **kwargs))\n"
   ]
  },
  {
   "cell_type": "code",
   "execution_count": 211,
   "metadata": {
    "collapsed": true
   },
   "outputs": [],
   "source": [
    "class OrderedDictYAMLLoader(yaml.Loader):\n",
    "    \"\"\"\n",
    "    A YAML loader that loads mappings into ordered dictionaries.\n",
    "    \"\"\"\n",
    " \n",
    "    def __init__(self, *args, **kwargs):\n",
    "        yaml.Loader.__init__(self, *args, **kwargs)\n",
    " \n",
    "        self.add_constructor(u'tag:yaml.org,2002:map', type(self).construct_yaml_map)\n",
    "        self.add_constructor(u'tag:yaml.org,2002:omap', type(self).construct_yaml_map)\n",
    " \n",
    "    def construct_yaml_map(self, node):\n",
    "        data = OrderedDict()\n",
    "        yield data\n",
    "        value = self.construct_mapping(node)\n",
    "        data.update(value)\n",
    " \n",
    "    def construct_mapping(self, node, deep=False):\n",
    "        if isinstance(node, yaml.MappingNode):\n",
    "            self.flatten_mapping(node)\n",
    "        else:\n",
    "            raise yaml.constructor.ConstructorError(None, None,\n",
    "                'expected a mapping node, but found %s' % node.id, node.start_mark)\n",
    " \n",
    "        mapping = OrderedDict()\n",
    "        for key_node, value_node in node.value:\n",
    "            key = self.construct_object(key_node, deep=deep)\n",
    "            try:\n",
    "                hash(key)\n",
    "            except TypeError, exc:\n",
    "                raise yaml.constructor.ConstructorError('while constructing a mapping',\n",
    "                    node.start_mark, 'found unacceptable key (%s)' % exc, key_node.start_mark)\n",
    "            value = self.construct_object(value_node, deep=deep)\n",
    "            mapping[key] = value\n",
    "        return mapping"
   ]
  },
  {
   "cell_type": "code",
   "execution_count": 409,
   "metadata": {
    "collapsed": false
   },
   "outputs": [],
   "source": [
    "def find_prov(content):\n",
    "\n",
    "    prov = re.search('_output_var_names\\s*=\\s*\\[(.*?)\\]',content, re.DOTALL)\n",
    "    if prov:\n",
    "        prov = re.split('\\n.*?',prov.groups()[0])\n",
    "        prov = [re.sub('\\s*##.*','',i) for i in prov]\n",
    "        prov = [re.sub('\\s*\\'','',i) for i in prov]\n",
    "        prov = [re.sub(',\\s*','',i) for i in prov]\n",
    "        prov = [re.sub('#\\s*.*','',i) for i in prov]\n",
    "        prov = [re.sub(' ','',i) for i in prov]\n",
    "        prov = [re.sub('\\\\r','',i) for i in prov]\n",
    "        prov = [i for i in prov if len(i)>0]\n",
    "        \n",
    "        return prov\n",
    "\n",
    "def find_uses(content):\n",
    "\n",
    "    uses = re.search('_input_var_names\\s*=\\s*\\[(.*?)\\]',content, re.DOTALL)\n",
    "    if uses:\n",
    "        uses = re.split('\\n.*?',uses.groups()[0])\n",
    "        uses = [re.sub('\\s*##.*','',i) for i in uses]\n",
    "        uses = [re.sub('\\s*\\'','',i) for i in uses]\n",
    "        uses = [re.sub(',\\s*','',i) for i in uses]\n",
    "        uses = [re.sub('#\\s*.*','',i) for i in uses]\n",
    "        uses = [re.sub(' ','',i) for i in uses]\n",
    "        uses = [re.sub('\\\\r','',i) for i in uses]\n",
    "        uses = [i for i in uses if len(i)>0]\n",
    "        \n",
    "        return uses"
   ]
  },
  {
   "cell_type": "code",
   "execution_count": 386,
   "metadata": {
    "collapsed": false
   },
   "outputs": [],
   "source": [
    "def match_keys(toKey,fromKey):\n",
    "\n",
    "    allU = {}\n",
    "\n",
    "    for k in toKey.keys():\n",
    "\n",
    "        allk = {}\n",
    "        vals = toKey[k]\n",
    "        keys = [[name for name in fromKey.keys() for i in fromKey[name] if i == j] for j in vals]\n",
    "        keys = [i[0].split('_')[0] if len(i)>0 else '' for i in keys]\n",
    "\n",
    "        allk = {keys[i]:[] for i in range(len(keys))}\n",
    "\n",
    "        for i in range(len(keys)):\n",
    "            allk[keys[i]].append(vals[i])\n",
    "\n",
    "        allU[k] = allk\n",
    "        \n",
    "    return allU"
   ]
  },
  {
   "cell_type": "code",
   "execution_count": 410,
   "metadata": {
    "collapsed": false
   },
   "outputs": [],
   "source": [
    "def create_provides_dot_json(comp_dir, prov):\n",
    "    # where prov is a list of dictionaries of the connections it provides\n",
    "    \n",
    "    print prov\n",
    "    \n",
    "    \n",
    "    \n",
    "    \n",
    "    o = open(comp_dir + '/db/provides.json', 'w')\n",
    "    json.dump(prov, o, indent = 2, sort_keys = False)\n",
    "    o.close()\n",
    "    \n",
    "\n",
    "def create_uses_dot_json(comp_dir, uses):\n",
    "    # where uses is a list of dictionaries of the connections it needs\n",
    "    \n",
    "    o = open(comp_dir + '/db/uses.json', 'w')\n",
    "    json.dump(uses, o, indent = 2, sort_keys = False)\n",
    "    o.close()"
   ]
  },
  {
   "cell_type": "code",
   "execution_count": 411,
   "metadata": {
    "collapsed": false
   },
   "outputs": [
    {
     "name": "stdout",
     "output_type": "stream",
     "text": [
      "Updating uses/provides for channels_base\n",
      "Updating uses/provides for channels_diffusive_wave\n",
      "Updating uses/provides for channels_dynamic_wave\n",
      "Updating uses/provides for channels_kinematic_wave\n",
      "Updating uses/provides for d8_base\n",
      "Updating uses/provides for d8_global\n",
      "Updating uses/provides for d8_local\n",
      "Updating uses/provides for diversions_base\n",
      "Updating uses/provides for diversions_fraction_method\n",
      "Updating uses/provides for diversions_fraction_method_LAST\n",
      "Updating uses/provides for erode_base\n",
      "Updating uses/provides for erode_d8_global\n",
      "Updating uses/provides for erode_d8_local\n",
      "Updating uses/provides for evap_base\n",
      "Updating uses/provides for evap_energy_balance\n",
      "Updating uses/provides for evap_priestley_taylor\n",
      "Updating uses/provides for evap_read_file\n",
      "Updating uses/provides for gc2d\n",
      "Updating uses/provides for HIS_base\n",
      "Updating uses/provides for HIS_test\n",
      "Updating uses/provides for ice_base\n",
      "Updating uses/provides for infil_base\n",
      "Updating uses/provides for infil_beven\n",
      "Updating uses/provides for infil_green_ampt\n",
      "Updating uses/provides for infil_richards_1D\n",
      "Updating uses/provides for infil_richards_1D_METHOD1\n",
      "Updating uses/provides for infil_smith_parlange\n",
      "Updating uses/provides for met_base\n",
      "Updating uses/provides for OLD_solar_funcs_gui\n",
      "Updating uses/provides for satzone_base\n",
      "Updating uses/provides for satzone_darcy_layers\n",
      "Updating uses/provides for smooth_DEM\n",
      "Updating uses/provides for snow_base\n",
      "Updating uses/provides for snow_degree_day\n",
      "Updating uses/provides for snow_energy_balance\n",
      "Updating uses/provides for soil_base\n",
      "Updating uses/provides for soil_funcs\n",
      "Updating uses/provides for solar_funcs\n",
      "Updating uses/provides for topoflow_driver\n",
      "{'': ['canals_entrance_water__volume_flow_rate', 'channel_bottom_surface__slope', 'channel_bottom_water_flow__log_law_roughness_length', 'channel_bottom_water_flow__magnitude_of_shear_stress', 'channel_bottom_water_flow__shear_speed', 'channel_centerline__sinuosity', 'channel_water_flow__froude_number', 'channel_water_flow__half_of_fanning_friction_factor', 'channel_water_flow__manning_n_parameter', 'channel_water_surface__slope', 'channel_water_x-section__hydraulic_radius', 'channel_water_x-section__initial_mean_depth', 'channel_water_x-section__volume_flow_rate', 'channel_water_x-section__volume_flux', 'channel_water_x-section__wetted_area', 'channel_water_x-section__wetted_perimeter', 'channel_x-section_trapezoid_bottom__width', 'channel_x-section_trapezoid_side__flare_angle', 'model__time_step', 'model_grid_cell__area'], 'diversions': ['channel_water__volume'], 'evap': ['channel_water_x-section__mean_depth'], 'topoflow': ['basin_outlet_water_flow__half_of_fanning_friction_factor', 'basin_outlet_water_x-section__mean_depth', 'basin_outlet_water_x-section__peak_time_of_depth', 'basin_outlet_water_x-section__peak_time_of_volume_flow_rate', 'basin_outlet_water_x-section__peak_time_of_volume_flux', 'basin_outlet_water_x-section__time_integral_of_volume_flow_rate', 'basin_outlet_water_x-section__time_max_of_mean_depth', 'basin_outlet_water_x-section__time_max_of_volume_flow_rate', 'basin_outlet_water_x-section__time_max_of_volume_flux', 'basin_outlet_water_x-section__volume_flow_rate', 'basin_outlet_water_x-section__volume_flux', 'channel_bottom_water_flow__domain_max_of_log_law_roughness_length', 'channel_bottom_water_flow__domain_min_of_log_law_roughness_length', 'channel_water_flow__domain_max_of_manning_n_parameter', 'channel_water_flow__domain_min_of_manning_n_parameter', 'channel_water_x-section__domain_max_of_mean_depth', 'channel_water_x-section__domain_min_of_mean_depth', 'channel_water_x-section__domain_max_of_volume_flow_rate', 'channel_water_x-section__domain_min_of_volume_flow_rate', 'channel_water_x-section__domain_max_of_volume_flux', 'channel_water_x-section__domain_min_of_volume_flux', 'land_surface_water__runoff_volume_flux', 'land_surface_water__domain_time_integral_of_runoff_volume_flux']}\n",
      "{'': ['canals__count', 'canals_entrance_water__volume_fraction', 'canals_entrance__x_coordinate', 'canals_entrance__y_coordinate', 'canals_exit_water__volume_flow_rate', 'canals_exit__x_coordinate', 'canals_exit__y_coordinate', 'model__time_step', 'sinks_water__volume_flow_rate', 'sinks__count', 'sinks__x_coordinate', 'sinks__y_coordinate', 'sources_water__volume_flow_rate', 'sources__count', 'sources__x_coordinate', 'sources__y_coordinate']}\n",
      "{'': ['model__time_step']}\n",
      "{'': ['atmosphere_water__geomorphic_precipitation_leq-volume_flux', 'bedrock__uplift_rate', 'channel_water_x-section__volume_flow_rate', 'channel_water_x-section__volume_flow_rate_law_area_exponent', 'channel_water_total-sediment__volume_flow_rate', 'channel_water_total-sediment__volume_flow_rate_law_area_exponent', 'channel_water_total-sediment__volume_flow_rate_law_coefficient', 'channel_water_total-sediment__volume_flow_rate_law_slope_exponent', 'land_surface__increment_of_elevation', 'land_surface__initial_elevation', 'land_surface__domain_max_of_increment_of_elevation', 'land_surface__slope', 'land_surface__time_derivative_of_elevation', 'land_surface_contour-segment__total_contributing_area', 'model__time_step', 'model_domain_boundary__lowering_rate', 'model_grid_cell__area', 'model_grid_cell__d8_flow_width', 'model_grid_cell__d8_flow_length', 'model_grid_cell__diameter', 'model_grid_cell__x_length', 'model_grid_cell__y_length'], 'infil': ['land_surface__elevation']}\n",
      "{'': ['land_surface_soil__conduction_heat_flux', 'model__time_step'], 'channels': ['land_surface_water__evaporation_volume_flux'], 'topoflow': ['land_surface_water__domain_time_integral_of_evaporation_volume_flux']}\n",
      "{'': ['land_surface_soil__conduction_heat_flux', 'model__time_step'], 'channels': ['land_surface_water__evaporation_volume_flux'], 'topoflow': ['land_surface_water__domain_time_integral_of_evaporation_volume_flux']}\n",
      "{'channels': ['land_surface_water__evaporation_volume_flux'], '': ['model_grid_cell__area', 'model__time_step'], 'topoflow': ['land_surface_water__domain_time_integral_of_evaporation_volume_flux']}\n",
      "{'channels': ['glacier_ice__melt_volume_flux'], '': ['glacier_top_surface__elevation', 'glacier_ice__thickness', 'model_grid_cell__x_length', 'model_grid_cell__y_length', 'model__time_step'], 'topoflow': ['glacier_ice__domain_time_integral_of_melt_volume_flux']}\n",
      "{'': ['model__time_step', 'soil_surface_water__time_integral_of_infiltration_volume_flux', 'soil_water__green-ampt_capillary_length', 'soil_water__potential_infiltration_volume_flux', 'soil_water__initial_hydraulic_conductivity', 'soil_water__initial_volume_fraction', 'soil_water__saturated_hydraulic_conductivity', 'soil_water__saturated_volume_fraction', 'soil_water_flow__z_component_of_darcy_velocity'], 'channels': ['soil_surface_water__infiltration_volume_flux'], 'topoflow': ['soil_surface_water__domain_time_integral_of_infiltration_volume_flux', 'soil_water_sat-zone_top__domain_time_integral_of_recharge_volume_flux'], 'satzone': ['soil_water_sat-zone_top__recharge_volume_flux']}\n",
      "{'': ['model__time_step', 'soil_surface_water__volume_fraction', 'soil_water__brooks-corey_eta_parameter', 'soil_water__brooks-corey_lambda_parameter', 'soil_water__brooks-corey-smith_c_parameter', 'soil_water__brooks-corey-smith_pressure_head_offset_parameter', 'soil_water__bubbling_pressure_head', 'soil_water__hydraulic_conductivity', 'soil_water__hygroscopic_volume_fraction', 'soil_water__initial_hydraulic_conductivity', 'soil_water__initial_volume_fraction', 'soil_water__pressure_head', 'soil_water__residual_volume_fraction', 'soil_water__saturated_hydraulic_conductivity', 'soil_water__saturated_volume_fraction', 'soil_water__volume_fraction', 'soil_water_flow__z_component_of_darcy_velocity', 'soil_water_wetting-front__depth'], 'channels': ['soil_surface_water__infiltration_volume_flux'], 'topoflow': ['soil_surface_water__domain_time_integral_of_infiltration_volume_flux', 'soil_water_sat-zone_top__domain_time_integral_of_recharge_volume_flux'], 'satzone': ['soil_water_sat-zone_top__recharge_volume_flux']}\n",
      "{'': ['model__time_step', 'soil_surface_water__time_integral_of_infiltration_volume_flux', 'soil_water__green-ampt_capillary_length', 'soil_water__potential_infiltration_volume_flux', 'soil_water__initial_hydraulic_conductivity', 'soil_water__initial_volume_fraction', 'soil_water__saturated_hydraulic_conductivity', 'soil_water__saturated_volume_fraction', 'soil_water__smith-parlange_gamma_parameter', 'soil_water_flow__z_component_of_darcy_velocity'], 'channels': ['soil_surface_water__infiltration_volume_flux'], 'topoflow': ['soil_surface_water__domain_time_integral_of_infiltration_volume_flux', 'soil_water_sat-zone_top__domain_time_integral_of_recharge_volume_flux'], 'satzone': ['soil_water_sat-zone_top__recharge_volume_flux']}\n",
      "{'': ['atmosphere_aerosol_dust__reduction_of_transmittance', 'atmosphere_air-column_water-vapor__liquid-equivalent_depth', 'atmosphere_bottom_air__brutsaert_emissivity_canopy_factor', 'atmosphere_bottom_air__brutsaert_emissivity_cloud_factor', 'atmosphere_bottom_air__bulk_latent_heat_aerodynamic_conductance', 'atmosphere_bottom_air__bulk_sensible_heat_aerodynamic_conductance', 'atmosphere_bottom_air__emissivity', 'atmosphere_bottom_air__neutral_bulk_aerodynamic_conductance', 'atmosphere_bottom_air__pressure', 'atmosphere_bottom_air_flow__bulk_richardson_number', 'atmosphere_bottom_air_flow__log_law_roughness_length', 'atmosphere_bottom_air_flow__reference-height_speed', 'atmosphere_bottom_air_flow__speed_reference_height', 'atmosphere_bottom_air_land_net-sensible-heat__energy_flux', 'atmosphere_bottom_air_water-vapor__dew_point_temperature', 'atmosphere_bottom_air_water-vapor__partial_pressure', 'atmosphere_bottom_air_water-vapor__relative_saturation', 'atmosphere_bottom_air_water-vapor__saturated_partial_pressure', 'atmosphere_water__precipitation_leq-volume_flux', 'earth__standard_gravity_constant', 'land_surface__albedo', 'land_surface__aspect_angle', 'land_surface__emissivity', 'land_surface__latitude', 'land_surface__longitude', 'land_surface__slope_angle', 'land_surface_air_water-vapor__partial_pressure', 'land_surface_air_water-vapor__saturated_partial_pressure', 'model__time_step', 'physics__stefan_boltzmann_constant', 'physics__von_karman_constant', 'water__mass-specific_latent_fusion_heat', 'water__mass-specific_latent_vaporization_heat'], 'channels': ['atmosphere_water__rainfall_volume_flux'], 'evap': ['atmosphere_bottom_air_land_net-latent-heat__energy_flux', 'land_surface_net-longwave-radiation__energy_flux', 'land_surface_net-shortwave-radiation__energy_flux'], 'topoflow': ['atmosphere_water__domain_time_integral_of_precipitation_leq-volume_flux', 'atmosphere_water__domain_time_max_of_precipitation_leq-volume_flux'], 'snow': ['atmosphere_bottom_air__mass-per-volume_density', 'atmosphere_bottom_air__mass-specific_isobaric_heat_capacity', 'atmosphere_bottom_air__temperature', 'atmosphere_water__snowfall_leq-volume_flux', 'land_surface__temperature', 'land_surface_net-total-energy__energy_flux', 'water-liquid__mass-per-volume_density']}\n",
      "{'channels': ['land_surface_water__baseflow_volume_flux'], '': ['model__time_step', 'model_soil_layer-0__porosity'], 'topoflow': ['land_surface_water__domain_time_integral_of_baseflow_volume_flux'], 'infil': ['land_surface__elevation']}\n",
      "{'': ['model__time_step', 'snowpack__degree-day_coefficient', 'snowpack__degree-day_threshold_temperature', 'snowpack__initial_depth', 'snowpack__initial_liquid-equivalent_depth'], 'met': ['snowpack__depth', 'snowpack__liquid-equivalent_depth', 'snowpack__z_mean_of_mass-per-volume_density'], 'topoflow': ['snowpack__domain_time_integral_of_melt_volume_flux'], 'channels': ['snowpack__melt_volume_flux']}\n",
      "{'': ['model__time_step', 'snowpack__energy-per-area_cold_content', 'snowpack__initial_depth', 'snowpack__initial_liquid-equivalent_depth', 'snowpack__z_mean_of_mass-specific_isobaric_heat_capacity'], 'met': ['snowpack__depth', 'snowpack__liquid-equivalent_depth', 'snowpack__z_mean_of_mass-per-volume_density'], 'topoflow': ['snowpack__domain_time_integral_of_melt_volume_flux'], 'channels': ['snowpack__melt_volume_flux']}\n",
      "{'': ['model__time_step']}\n"
     ]
    }
   ],
   "source": [
    "yaml_root = 'yaml/'\n",
    "components_root = 'components/'\n",
    "source_dir = 'topoflow/'\n",
    "\n",
    "source_dirs = glob.iglob(source_dir + '*.py') # py files\n",
    "\n",
    "Uses = {}\n",
    "Provides = {}\n",
    "\n",
    "for comp in source_dirs:\n",
    "    \n",
    "    comp_name = string.split(comp,'/')[-1][:-3]\n",
    "    \n",
    "    print 'Updating uses/provides for ' + comp_name\n",
    "\n",
    "    # make new dirs\n",
    "    comp_dir = components_root + string.lower(comp_name)\n",
    "    if not os.path.exists(comp_dir):\n",
    "        os.makedirs(comp_dir)\n",
    "        os.makedirs(comp_dir + '/db')\n",
    "    \n",
    "    with open(comp, 'r') as content_file:\n",
    "        content = content_file.read()\n",
    "    \n",
    "    # provides.json\n",
    "    provides = find_prov(content)\n",
    "    if provides:\n",
    "        Provides[comp_name] = provides\n",
    "    \n",
    "    # uses.json\n",
    "    uses = find_uses(content)\n",
    "    if uses:\n",
    "        Uses[comp_name] = uses\n",
    "    \n",
    "keyed_provides = match_keys(Provides,Uses)\n",
    "keyed_uses = match_keys(Uses,Provides)\n",
    "\n",
    "source_dirs = glob.iglob(source_dir + '*.py') # py files\n",
    "\n",
    "for comp in source_dirs:\n",
    "    \n",
    "    comp_name = string.split(comp,'/')[-1][:-3]\n",
    "    \n",
    "    if any(i == comp_name for i in keyed_provides.keys()):\n",
    "        create_provides_dot_json(comp_dir, keyed_provides[comp_name])\n",
    "    if any(i == comp_name for i in keyed_uses.keys()):\n",
    "        create_uses_dot_json(comp_dir, keyed_uses[comp_name])\n",
    "\n",
    "\n",
    "# inBoth = set(Uses) & set(Provides)\n",
    "# inOneButNotOther = set(Uses) | set(Provides)\n",
    "# inUsesNotProvides = {i for i in Uses if set(i) | set(Provides)}"
   ]
  },
  {
   "cell_type": "code",
   "execution_count": 407,
   "metadata": {
    "collapsed": false
   },
   "outputs": [
    {
     "data": {
      "text/plain": [
       "True"
      ]
     },
     "execution_count": 407,
     "metadata": {},
     "output_type": "execute_result"
    }
   ],
   "source": [
    "any(i == comp_name for i in keyed_provides.keys())"
   ]
  },
  {
   "cell_type": "code",
   "execution_count": 405,
   "metadata": {
    "collapsed": false
   },
   "outputs": [
    {
     "data": {
      "text/plain": [
       "['snow_energy_balance',\n",
       " 'diversions_fraction_method_LAST',\n",
       " 'channels_base',\n",
       " 'ice_base',\n",
       " 'evap_read_file',\n",
       " 'met_base',\n",
       " 'infil_smith_parlange',\n",
       " 'snow_degree_day',\n",
       " 'diversions_fraction_method',\n",
       " 'topoflow_driver',\n",
       " 'evap_energy_balance',\n",
       " 'infil_green_ampt',\n",
       " 'evap_priestley_taylor',\n",
       " 'infil_richards_1D',\n",
       " 'satzone_darcy_layers',\n",
       " 'erode_d8_global']"
      ]
     },
     "execution_count": 405,
     "metadata": {},
     "output_type": "execute_result"
    }
   ],
   "source": [
    "keyed_provides.keys()"
   ]
  },
  {
   "cell_type": "code",
   "execution_count": null,
   "metadata": {
    "collapsed": true
   },
   "outputs": [],
   "source": []
  }
 ],
 "metadata": {
  "kernelspec": {
   "display_name": "Python 2",
   "language": "python",
   "name": "python2"
  },
  "language_info": {
   "codemirror_mode": {
    "name": "ipython",
    "version": 2
   },
   "file_extension": ".py",
   "mimetype": "text/x-python",
   "name": "python",
   "nbconvert_exporter": "python",
   "pygments_lexer": "ipython2",
   "version": "2.7.10"
  }
 },
 "nbformat": 4,
 "nbformat_minor": 0
}
