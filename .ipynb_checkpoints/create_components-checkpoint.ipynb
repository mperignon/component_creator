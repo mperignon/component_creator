{
 "cells": [
  {
   "cell_type": "code",
   "execution_count": 1,
   "metadata": {
    "collapsed": false
   },
   "outputs": [],
   "source": [
    "import os, sys, glob, string, shutil, re\n",
    "import yaml, json\n",
    "from collections import OrderedDict\n",
    "\n",
    "\n",
    "\n",
    "class UnsortableList(list):\n",
    "    def sort(self, *args, **kwargs):\n",
    "        pass\n",
    "    \n",
    "class UnsortableOrderedDict(OrderedDict):\n",
    "    def items(self, *args, **kwargs):\n",
    "        return UnsortableList(OrderedDict.items(self, *args, **kwargs))\n",
    "    \n",
    "yaml.add_representer(UnsortableOrderedDict, yaml.representer.SafeRepresenter.represent_dict)\n"
   ]
  },
  {
   "cell_type": "code",
   "execution_count": 2,
   "metadata": {
    "collapsed": false
   },
   "outputs": [],
   "source": [
    "def yaml_to_json(comp_dir):\n",
    "    \n",
    "    inFile = comp_dir + '/db/parameters.yaml'\n",
    "    outFile = comp_dir + '/db/parameters.json'\n",
    "\n",
    "    with open(inFile) as f:\n",
    "        yaml_in = yaml.load(f)\n",
    "        json_out = open(outFile,'w')\n",
    "\n",
    "        json.dump(yaml_in, json_out, indent = 4)\n",
    "\n",
    "        f.close()\n",
    "        json_out.close()\n",
    "\n",
    "\n",
    "def create_cfg_file(comp_dir):\n",
    "\n",
    "    comp_name = string.split(comp_dir,'/')[-1]\n",
    "    cfg_name = comp_name + '.cfg.in'\n",
    "    cfg_file = comp_dir + '/files/' + cfg_name\n",
    "\n",
    "    # open parameters.json\n",
    "    p = open(comp_dir + '/db/parameters.json')\n",
    "    params = json.load(p)\n",
    "\n",
    "    # header\n",
    "    head = [79*'=', 'Topoflow Config File for: ' + comp_name, 79*'=']\n",
    "\n",
    "    # table\n",
    "    col1 = [str(obj['key']) for obj in params]\n",
    "    col2 = [str('${' + obj['key'] + '}') for obj in params]\n",
    "    col3 = [str(obj['value']['type']) for obj in params]\n",
    "    col4 = [str(obj['description']) + ' [' + str(obj['value']['units']) + ']' for obj in params]\n",
    "    col5 = [str(' {' + '; '.join(obj['value']['choices']) + '}') if obj['value'].has_key('choices') else '' for obj in params]\n",
    "\n",
    "    table = ['{0:20}| {1:20}| {2:10}| {3}{4}'.format(col1[i],col2[i],col3[i],col4[i],col5[i]) for i in range(len(col1))]\n",
    "    tablestr = head + table\n",
    "    tablestr = '\\n'.join(tablestr)\n",
    "\n",
    "    cfgfile_out = open(cfg_file, 'w')\n",
    "    cfgfile_out.write(tablestr)\n",
    "    cfgfile_out.close()\n",
    "\n",
    "\n",
    "def create_files_dot_json(comp_dir):\n",
    "    \n",
    "    comp_name = string.split(comp_dir,'/')[-1]\n",
    "    cfg_name = comp_name + '.cfg.in'\n",
    "\n",
    "    filesjson_out = open(comp_dir + '/db/files.json','w')\n",
    "    json.dump(cfg_name, filesjson_out)\n",
    "    filesjson_out.close()\n",
    "\n",
    "\n",
    "def create_argv_dot_json(comp_dir):\n",
    "    \n",
    "    comp_name = string.split(comp_dir,'/')[-1]\n",
    "    argv = '[\"' + comp_name + '\"]'\n",
    "    o = open(comp_dir + '/db/argv.json', 'w')\n",
    "    o.write(argv)\n",
    "    o.close()\n",
    "\n",
    "\n",
    "def create_provides_dot_json(comp_dir, prov):\n",
    "    # where prov is a list of dictionaries of the connections it provides\n",
    "    \n",
    "    o = open(comp_dir + '/db/provides.json', 'w')\n",
    "    json.dump(prov, o, indent = 2, sort_keys = True)\n",
    "    o.close()\n",
    "    \n",
    "\n",
    "def create_uses_dot_json(comp_dir, uses):\n",
    "    # where uses is a list of dictionaries of the connections it needs\n",
    "    \n",
    "    o = open(comp_dir + '/db/uses.json', 'w')\n",
    "    json.dump(uses, o, indent = 2, sort_keys = True)\n",
    "    o.close()"
   ]
  },
  {
   "cell_type": "code",
   "execution_count": 59,
   "metadata": {
    "collapsed": false
   },
   "outputs": [],
   "source": [
    "def create_info_dot_json(comp_dir):\n",
    "    \n",
    "    comp_name = string.split(comp_dir,'/')[-1]\n",
    "\n",
    "    # open parameters.json\n",
    "    p = open(comp_dir + '/db/parameters.json')\n",
    "    params = json.load(p)\n",
    "    params = [item for it in params.values() for item in it]\n",
    "\n",
    "    info = UnsortableOrderedDict()\n",
    "\n",
    "    info['id'] = comp_name\n",
    "    info['name'] = [str(i['value']['default']) for i in params if i['key'] == 'ModelName'][0]\n",
    "    info['class'] = comp_name\n",
    "    info['initialize_args'] = comp_name + '.cfg'\n",
    "    try: info['time_step'] = [str(i['value']['default']) for i in params if i['key'] == 'dt'][0]\n",
    "    except: info['time_step'] = ''\n",
    "    info['summary'] = ''\n",
    "    info['url'] = [str(i['value']['default']) for i in params if i['key'] == 'HTML_HELP_FILE'][0]\n",
    "    info['author'] = [str(i['value']['default']) for i in params if i['key'] == 'ModelAuthor'][0]\n",
    "    info['email'] = ''\n",
    "    info['version'] = ''\n",
    "    info['doi'] = ''\n",
    "    info['license'] = ''\n",
    "    \n",
    "    try: extra_info = read_extra_info()\n",
    "    except: pass\n",
    "\n",
    "    o = open(comp_dir + '/db/info.json', 'w')\n",
    "    json.dump(info, o, indent = 2)\n",
    "    o.close()"
   ]
  },
  {
   "cell_type": "code",
   "execution_count": 62,
   "metadata": {
    "collapsed": false
   },
   "outputs": [
    {
     "ename": "SyntaxError",
     "evalue": "invalid syntax (<ipython-input-62-0d16f59daeb0>, line 1)",
     "output_type": "error",
     "traceback": [
      "\u001b[0;36m  File \u001b[0;32m\"<ipython-input-62-0d16f59daeb0>\"\u001b[0;36m, line \u001b[0;32m1\u001b[0m\n\u001b[0;31m    def read_extra_info:\u001b[0m\n\u001b[0m                       ^\u001b[0m\n\u001b[0;31mSyntaxError\u001b[0m\u001b[0;31m:\u001b[0m invalid syntax\n"
     ]
    }
   ],
   "source": [
    "def read_extra_info:\n",
    "\n",
    "    itemFile = 'info.txt'\n",
    "    extra_info = UnsortableOrderedDict()\n",
    "\n",
    "    o = open(itemFile, mode = 'r')    \n",
    "    for line in o:\n",
    "        line = re.sub('\\n$','',line)\n",
    "        ln = re.split('\\s*[\\:\\=]\\s*', line)\n",
    "\n",
    "        error_message = 'The file ' + itemFile + ' cannot be read. Please use the format key : value'\n",
    "        assert len(ln) == 2, error_message\n",
    "\n",
    "        extra_info[str(ln[0])] = str(ln[1])\n",
    "        \n",
    "    o.close()\n",
    "\n",
    "    return extra_info\n",
    "    "
   ]
  },
  {
   "cell_type": "code",
   "execution_count": 61,
   "metadata": {
    "collapsed": false
   },
   "outputs": [
    {
     "ename": "TypeError",
     "evalue": "string indices must be integers",
     "output_type": "error",
     "traceback": [
      "\u001b[0;31m---------------------------------------------------------------------------\u001b[0m",
      "\u001b[0;31mTypeError\u001b[0m                                 Traceback (most recent call last)",
      "\u001b[0;32m<ipython-input-61-ef8ee0ce9d50>\u001b[0m in \u001b[0;36m<module>\u001b[0;34m()\u001b[0m\n\u001b[1;32m     39\u001b[0m \u001b[0;34m\u001b[0m\u001b[0m\n\u001b[1;32m     40\u001b[0m     \u001b[0;31m# cfg.in file\u001b[0m\u001b[0;34m\u001b[0m\u001b[0;34m\u001b[0m\u001b[0m\n\u001b[0;32m---> 41\u001b[0;31m     \u001b[0mcreate_cfg_file\u001b[0m\u001b[0;34m(\u001b[0m\u001b[0mcomp_dir\u001b[0m\u001b[0;34m)\u001b[0m\u001b[0;34m\u001b[0m\u001b[0m\n\u001b[0m",
      "\u001b[0;32m<ipython-input-2-323d095c604e>\u001b[0m in \u001b[0;36mcreate_cfg_file\u001b[0;34m(comp_dir)\u001b[0m\n\u001b[1;32m     28\u001b[0m \u001b[0;34m\u001b[0m\u001b[0m\n\u001b[1;32m     29\u001b[0m     \u001b[0;31m# table\u001b[0m\u001b[0;34m\u001b[0m\u001b[0;34m\u001b[0m\u001b[0m\n\u001b[0;32m---> 30\u001b[0;31m     \u001b[0mcol1\u001b[0m \u001b[0;34m=\u001b[0m \u001b[0;34m[\u001b[0m\u001b[0mstr\u001b[0m\u001b[0;34m(\u001b[0m\u001b[0mobj\u001b[0m\u001b[0;34m[\u001b[0m\u001b[0;34m'key'\u001b[0m\u001b[0;34m]\u001b[0m\u001b[0;34m)\u001b[0m \u001b[0;32mfor\u001b[0m \u001b[0mobj\u001b[0m \u001b[0;32min\u001b[0m \u001b[0mparams\u001b[0m\u001b[0;34m]\u001b[0m\u001b[0;34m\u001b[0m\u001b[0m\n\u001b[0m\u001b[1;32m     31\u001b[0m     \u001b[0mcol2\u001b[0m \u001b[0;34m=\u001b[0m \u001b[0;34m[\u001b[0m\u001b[0mstr\u001b[0m\u001b[0;34m(\u001b[0m\u001b[0;34m'${'\u001b[0m \u001b[0;34m+\u001b[0m \u001b[0mobj\u001b[0m\u001b[0;34m[\u001b[0m\u001b[0;34m'key'\u001b[0m\u001b[0;34m]\u001b[0m \u001b[0;34m+\u001b[0m \u001b[0;34m'}'\u001b[0m\u001b[0;34m)\u001b[0m \u001b[0;32mfor\u001b[0m \u001b[0mobj\u001b[0m \u001b[0;32min\u001b[0m \u001b[0mparams\u001b[0m\u001b[0;34m]\u001b[0m\u001b[0;34m\u001b[0m\u001b[0m\n\u001b[1;32m     32\u001b[0m     \u001b[0mcol3\u001b[0m \u001b[0;34m=\u001b[0m \u001b[0;34m[\u001b[0m\u001b[0mstr\u001b[0m\u001b[0;34m(\u001b[0m\u001b[0mobj\u001b[0m\u001b[0;34m[\u001b[0m\u001b[0;34m'value'\u001b[0m\u001b[0;34m]\u001b[0m\u001b[0;34m[\u001b[0m\u001b[0;34m'type'\u001b[0m\u001b[0;34m]\u001b[0m\u001b[0;34m)\u001b[0m \u001b[0;32mfor\u001b[0m \u001b[0mobj\u001b[0m \u001b[0;32min\u001b[0m \u001b[0mparams\u001b[0m\u001b[0;34m]\u001b[0m\u001b[0;34m\u001b[0m\u001b[0m\n",
      "\u001b[0;31mTypeError\u001b[0m: string indices must be integers"
     ]
    }
   ],
   "source": [
    "yaml_root = 'yaml/'\n",
    "components_root = '../components/'\n",
    "\n",
    "yaml_dirs = glob.iglob(yaml_root + '*') # xml files\n",
    "\n",
    "for comp in yaml_dirs:\n",
    "    \n",
    "    comp_name = string.split(comp,'/')[-1]\n",
    "    \n",
    "    # make new dirs\n",
    "    comp_dir = components_root + comp_name\n",
    "    if not os.path.exists(comp_dir):\n",
    "        os.makedirs(comp_dir)\n",
    "        os.makedirs(comp_dir + '/db')\n",
    "        os.makedirs(comp_dir + '/files')\n",
    "    \n",
    "    # copy yaml file to new component dir structure\n",
    "    shutil.copyfile(comp + '/parameters.yaml', comp_dir + '/db/parameters.yaml')\n",
    "    \n",
    "    # make a json parameter file\n",
    "    yaml_to_json(comp_dir)\n",
    "    \n",
    "    # files.json\n",
    "    create_files_dot_json(comp_dir)\n",
    "    \n",
    "    # argv.json -> name of the component\n",
    "    create_argv_dot_json(comp_dir)\n",
    "    \n",
    "    # info.json\n",
    "    create_info_dot_json(comp_dir)\n",
    "    \n",
    "    # provides.json\n",
    "#     provides = [{'id':str(comp_name),'required':False}]\n",
    "#     create_provides_dot_json(comp_dir, provides)\n",
    "    \n",
    "#     # uses.json\n",
    "#     uses = [{'id':'----','required':False}]\n",
    "#     create_uses_dot_json(comp_dir, uses)\n",
    "    \n",
    "#     # cfg.in file\n",
    "#     create_cfg_file(comp_dir)\n"
   ]
  },
  {
   "cell_type": "code",
   "execution_count": 4,
   "metadata": {
    "collapsed": false
   },
   "outputs": [
    {
     "data": {
      "text/plain": [
       "'../components/Channels_Diffusive_Wave'"
      ]
     },
     "execution_count": 4,
     "metadata": {},
     "output_type": "execute_result"
    }
   ],
   "source": [
    "comp_dir"
   ]
  },
  {
   "cell_type": "code",
   "execution_count": null,
   "metadata": {
    "collapsed": true
   },
   "outputs": [],
   "source": []
  }
 ],
 "metadata": {
  "kernelspec": {
   "display_name": "Python 2",
   "language": "python",
   "name": "python2"
  },
  "language_info": {
   "codemirror_mode": {
    "name": "ipython",
    "version": 2
   },
   "file_extension": ".py",
   "mimetype": "text/x-python",
   "name": "python",
   "nbconvert_exporter": "python",
   "pygments_lexer": "ipython2",
   "version": "2.7.9"
  }
 },
 "nbformat": 4,
 "nbformat_minor": 0
}
